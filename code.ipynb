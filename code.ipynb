{
 "cells": [
  {
   "cell_type": "code",
   "execution_count": 2,
   "id": "bdce8868-08e4-48f7-baa7-3ed961267b35",
   "metadata": {
    "tags": []
   },
   "outputs": [],
   "source": [
    "import requests\n",
    "import time"
   ]
  },
  {
   "cell_type": "code",
   "execution_count": 4,
   "id": "f3c03c32-71b6-44a8-b3ee-05fd196ca640",
   "metadata": {},
   "outputs": [],
   "source": [
    "url_start = 'https://www.basketball-reference.com/awards/awards_{}.html'\n",
    "years = list(range(1991, 2023))\n",
    "for year in years:\n",
    "    url = url_start.format(year)\n",
    "    data= requests.get(url)\n",
    "    time.sleep(15)\n",
    "    with open(\"mvp/{}.html\".format(year), \"w+\", encoding = 'utf-8') as f:\n",
    "        f.write(data.text)"
   ]
  },
  {
   "cell_type": "code",
   "execution_count": 6,
   "id": "d8ac0f7f-954a-4255-a6e6-14789d9b2d96",
   "metadata": {
    "tags": []
   },
   "outputs": [],
   "source": [
    "from bs4 import BeautifulSoup"
   ]
  },
  {
   "cell_type": "code",
   "execution_count": 7,
   "id": "10c676e3-4cd1-4258-8a02-31a79277c96e",
   "metadata": {
    "tags": []
   },
   "outputs": [],
   "source": [
    "with open(\"mvp/1991.html\") as f:\n",
    "    page = f.read()"
   ]
  },
  {
   "cell_type": "code",
   "execution_count": 8,
   "id": "9793bd86-7ace-483d-b396-09b927d2df9f",
   "metadata": {
    "tags": []
   },
   "outputs": [],
   "source": [
    "soup = BeautifulSoup(page, \"html.parser\")"
   ]
  },
  {
   "cell_type": "code",
   "execution_count": 9,
   "id": "503465bd-27bf-42f4-8d5a-7a6bfe2acf55",
   "metadata": {
    "tags": []
   },
   "outputs": [],
   "source": [
    "soup.find(\"tr\", class_ = \"over_header\").decompose() # decompose allows to remove"
   ]
  },
  {
   "cell_type": "code",
   "execution_count": 11,
   "id": "6430f437-26f1-4587-b94e-cb6c5f3b3f70",
   "metadata": {
    "tags": []
   },
   "outputs": [],
   "source": [
    "# only want mvp table\n",
    "# find the sepcific table that we want. table has a specific id mvp, \n",
    "# id in html is a globally unique property that only one element usually has\n",
    "# find the id in the html file which is called <table class ... = id= \"mvp\"\n",
    "\n",
    "mvp_table = soup.find(id = \"mvp\")\n",
    "# by default is not a string"
   ]
  },
  {
   "cell_type": "code",
   "execution_count": 13,
   "id": "40e473ad-8989-45e7-8cca-99ce3d2b07e5",
   "metadata": {
    "tags": []
   },
   "outputs": [],
   "source": [
    "import pandas as pd\n",
    "# pandas can read html tables"
   ]
  },
  {
   "cell_type": "code",
   "execution_count": 84,
   "id": "ced77fbc-4870-4ffd-a4a6-d0fc2ebed406",
   "metadata": {
    "tags": []
   },
   "outputs": [],
   "source": [
    "# 1991 TABLE\n",
    "mvp_1991 = pd.read_html(str(mvp_table))[0] # need to make mvp_table into a string \n",
    "# mvp_1991 \n",
    "# this is not a dataframe but a list of dataframes so we need to take first element\n"
   ]
  },
  {
   "cell_type": "code",
   "execution_count": 26,
   "id": "0b8916f1-516d-4c55-ad60-6827ca23e436",
   "metadata": {
    "tags": []
   },
   "outputs": [],
   "source": [
    "dfs = []\n",
    "for year in years:\n",
    "    with open(\"mvp/{}.html\".format(year)) as f:\n",
    "        page = f.read()\n",
    "    soup = BeautifulSoup(page, \"html.parser\")\n",
    "    soup.find(\"tr\", class_ = \"over_header\").decompose() # decompose allows to remove\n",
    "    mvp_table = soup.find(id = \"mvp\")\n",
    "    mvp = pd.read_html(str(mvp_table))[0]\n",
    "    mvp[\"Year\"] = year # need to see what year the voting occured \n",
    "    \n",
    "    dfs.append(mvp)\n"
   ]
  },
  {
   "cell_type": "code",
   "execution_count": 32,
   "id": "df1bfef0-7c44-4a1e-aebf-4eb4bf779801",
   "metadata": {
    "tags": []
   },
   "outputs": [
    {
     "data": {
      "text/html": [
       "<div>\n",
       "<style scoped>\n",
       "    .dataframe tbody tr th:only-of-type {\n",
       "        vertical-align: middle;\n",
       "    }\n",
       "\n",
       "    .dataframe tbody tr th {\n",
       "        vertical-align: top;\n",
       "    }\n",
       "\n",
       "    .dataframe thead th {\n",
       "        text-align: right;\n",
       "    }\n",
       "</style>\n",
       "<table border=\"1\" class=\"dataframe\">\n",
       "  <thead>\n",
       "    <tr style=\"text-align: right;\">\n",
       "      <th></th>\n",
       "      <th>Rank</th>\n",
       "      <th>Player</th>\n",
       "      <th>Age</th>\n",
       "      <th>Tm</th>\n",
       "      <th>First</th>\n",
       "      <th>Pts Won</th>\n",
       "      <th>Pts Max</th>\n",
       "      <th>Share</th>\n",
       "      <th>G</th>\n",
       "      <th>MP</th>\n",
       "      <th>...</th>\n",
       "      <th>TRB</th>\n",
       "      <th>AST</th>\n",
       "      <th>STL</th>\n",
       "      <th>BLK</th>\n",
       "      <th>FG%</th>\n",
       "      <th>3P%</th>\n",
       "      <th>FT%</th>\n",
       "      <th>WS</th>\n",
       "      <th>WS/48</th>\n",
       "      <th>Year</th>\n",
       "    </tr>\n",
       "  </thead>\n",
       "  <tbody>\n",
       "    <tr>\n",
       "      <th>0</th>\n",
       "      <td>1</td>\n",
       "      <td>Michael Jordan</td>\n",
       "      <td>27</td>\n",
       "      <td>CHI</td>\n",
       "      <td>77.0</td>\n",
       "      <td>891.0</td>\n",
       "      <td>960</td>\n",
       "      <td>0.928</td>\n",
       "      <td>82</td>\n",
       "      <td>37.0</td>\n",
       "      <td>...</td>\n",
       "      <td>6.0</td>\n",
       "      <td>5.5</td>\n",
       "      <td>2.7</td>\n",
       "      <td>1.0</td>\n",
       "      <td>0.539</td>\n",
       "      <td>0.312</td>\n",
       "      <td>0.851</td>\n",
       "      <td>20.3</td>\n",
       "      <td>0.321</td>\n",
       "      <td>1991</td>\n",
       "    </tr>\n",
       "    <tr>\n",
       "      <th>1</th>\n",
       "      <td>2</td>\n",
       "      <td>Magic Johnson</td>\n",
       "      <td>31</td>\n",
       "      <td>LAL</td>\n",
       "      <td>10.0</td>\n",
       "      <td>497.0</td>\n",
       "      <td>960</td>\n",
       "      <td>0.518</td>\n",
       "      <td>79</td>\n",
       "      <td>37.1</td>\n",
       "      <td>...</td>\n",
       "      <td>7.0</td>\n",
       "      <td>12.5</td>\n",
       "      <td>1.3</td>\n",
       "      <td>0.2</td>\n",
       "      <td>0.477</td>\n",
       "      <td>0.320</td>\n",
       "      <td>0.906</td>\n",
       "      <td>15.4</td>\n",
       "      <td>0.251</td>\n",
       "      <td>1991</td>\n",
       "    </tr>\n",
       "    <tr>\n",
       "      <th>2</th>\n",
       "      <td>3</td>\n",
       "      <td>David Robinson</td>\n",
       "      <td>25</td>\n",
       "      <td>SAS</td>\n",
       "      <td>6.0</td>\n",
       "      <td>476.0</td>\n",
       "      <td>960</td>\n",
       "      <td>0.496</td>\n",
       "      <td>82</td>\n",
       "      <td>37.7</td>\n",
       "      <td>...</td>\n",
       "      <td>13.0</td>\n",
       "      <td>2.5</td>\n",
       "      <td>1.5</td>\n",
       "      <td>3.9</td>\n",
       "      <td>0.552</td>\n",
       "      <td>0.143</td>\n",
       "      <td>0.762</td>\n",
       "      <td>17.0</td>\n",
       "      <td>0.264</td>\n",
       "      <td>1991</td>\n",
       "    </tr>\n",
       "    <tr>\n",
       "      <th>3</th>\n",
       "      <td>4</td>\n",
       "      <td>Charles Barkley</td>\n",
       "      <td>27</td>\n",
       "      <td>PHI</td>\n",
       "      <td>2.0</td>\n",
       "      <td>222.0</td>\n",
       "      <td>960</td>\n",
       "      <td>0.231</td>\n",
       "      <td>67</td>\n",
       "      <td>37.3</td>\n",
       "      <td>...</td>\n",
       "      <td>10.1</td>\n",
       "      <td>4.2</td>\n",
       "      <td>1.6</td>\n",
       "      <td>0.5</td>\n",
       "      <td>0.570</td>\n",
       "      <td>0.284</td>\n",
       "      <td>0.722</td>\n",
       "      <td>13.4</td>\n",
       "      <td>0.258</td>\n",
       "      <td>1991</td>\n",
       "    </tr>\n",
       "    <tr>\n",
       "      <th>4</th>\n",
       "      <td>5</td>\n",
       "      <td>Karl Malone</td>\n",
       "      <td>27</td>\n",
       "      <td>UTA</td>\n",
       "      <td>0.0</td>\n",
       "      <td>142.0</td>\n",
       "      <td>960</td>\n",
       "      <td>0.148</td>\n",
       "      <td>82</td>\n",
       "      <td>40.3</td>\n",
       "      <td>...</td>\n",
       "      <td>11.8</td>\n",
       "      <td>3.3</td>\n",
       "      <td>1.1</td>\n",
       "      <td>1.0</td>\n",
       "      <td>0.527</td>\n",
       "      <td>0.286</td>\n",
       "      <td>0.770</td>\n",
       "      <td>15.5</td>\n",
       "      <td>0.225</td>\n",
       "      <td>1991</td>\n",
       "    </tr>\n",
       "  </tbody>\n",
       "</table>\n",
       "<p>5 rows × 21 columns</p>\n",
       "</div>"
      ],
      "text/plain": [
       "  Rank           Player  Age   Tm  First  Pts Won  Pts Max  Share   G    MP  \\\n",
       "0    1   Michael Jordan   27  CHI   77.0    891.0      960  0.928  82  37.0   \n",
       "1    2    Magic Johnson   31  LAL   10.0    497.0      960  0.518  79  37.1   \n",
       "2    3   David Robinson   25  SAS    6.0    476.0      960  0.496  82  37.7   \n",
       "3    4  Charles Barkley   27  PHI    2.0    222.0      960  0.231  67  37.3   \n",
       "4    5      Karl Malone   27  UTA    0.0    142.0      960  0.148  82  40.3   \n",
       "\n",
       "   ...   TRB   AST  STL  BLK    FG%    3P%    FT%    WS  WS/48  Year  \n",
       "0  ...   6.0   5.5  2.7  1.0  0.539  0.312  0.851  20.3  0.321  1991  \n",
       "1  ...   7.0  12.5  1.3  0.2  0.477  0.320  0.906  15.4  0.251  1991  \n",
       "2  ...  13.0   2.5  1.5  3.9  0.552  0.143  0.762  17.0  0.264  1991  \n",
       "3  ...  10.1   4.2  1.6  0.5  0.570  0.284  0.722  13.4  0.258  1991  \n",
       "4  ...  11.8   3.3  1.1  1.0  0.527  0.286  0.770  15.5  0.225  1991  \n",
       "\n",
       "[5 rows x 21 columns]"
      ]
     },
     "execution_count": 32,
     "metadata": {},
     "output_type": "execute_result"
    }
   ],
   "source": [
    "mvps_combined = pd.concat(dfs) # concat allows us to combine all the dfs\n",
    "mvps_combined.head()"
   ]
  },
  {
   "cell_type": "code",
   "execution_count": 29,
   "id": "87bd87aa-dc41-48f5-bdec-9b93e0ce68f0",
   "metadata": {
    "tags": []
   },
   "outputs": [],
   "source": [
    "mvps_combined.to_csv(\"mvps.csv\")"
   ]
  },
  {
   "cell_type": "code",
   "execution_count": 30,
   "id": "475ffd48-7f51-478c-8839-0101d0d98c6e",
   "metadata": {
    "tags": []
   },
   "outputs": [],
   "source": [
    "# NEED all player data"
   ]
  },
  {
   "cell_type": "code",
   "execution_count": 34,
   "id": "a96421b0-f150-46b2-997f-040118f6c07f",
   "metadata": {
    "tags": []
   },
   "outputs": [],
   "source": [
    "player_stats_url = \"https://www.basketball-reference.com/leagues/NBA_{}_per_game.html\""
   ]
  },
  {
   "cell_type": "code",
   "execution_count": 35,
   "id": "9203c43d-3451-4954-a546-aa7fdfd79729",
   "metadata": {
    "tags": []
   },
   "outputs": [],
   "source": [
    "url = player_stats_url.format(1991)\n",
    "data = requests.get(url)\n",
    "with open(\"player/1991.html\", \"w+\", encoding = 'utf-8') as f:\n",
    "        f.write(data.text)\n",
    "# doesnt work \n",
    "# a lot of websites have javascript which you need to run on a website"
   ]
  },
  {
   "cell_type": "code",
   "execution_count": null,
   "id": "e6025952-cf7a-403e-8454-d795cd92f981",
   "metadata": {},
   "outputs": [],
   "source": []
  },
  {
   "cell_type": "markdown",
   "id": "f6c1fad3-0528-459d-a4a6-40c49836392f",
   "metadata": {
    "tags": []
   },
   "source": [
    "# PLAYER STATS NOT FROM BASKETBALL REFERENCE"
   ]
  },
  {
   "cell_type": "code",
   "execution_count": 51,
   "id": "a58de07f-33cd-48e2-a09b-45e7a79de12c",
   "metadata": {
    "tags": []
   },
   "outputs": [],
   "source": [
    "url = 'https://stats.nba.com/stats/leagueLeaders?LeagueID=00&PerMode=PerGame&Scope=S&Season=2022-23&SeasonType=Regular%20Season&StatCategory=PTS'"
   ]
  },
  {
   "cell_type": "code",
   "execution_count": 55,
   "id": "8d27b701-bde8-4a01-acca-2af2b3c030ca",
   "metadata": {
    "tags": []
   },
   "outputs": [],
   "source": [
    "r = requests.get(url).json()\n"
   ]
  },
  {
   "cell_type": "code",
   "execution_count": 58,
   "id": "8cae4d70-80ec-48f6-8a51-e29cf8ae472e",
   "metadata": {
    "tags": []
   },
   "outputs": [],
   "source": [
    "table_headers = r[\"resultSet\"][\"headers\"]"
   ]
  },
  {
   "cell_type": "code",
   "execution_count": 76,
   "id": "2bf28437-0faa-46cf-9615-32d592879db7",
   "metadata": {
    "tags": []
   },
   "outputs": [],
   "source": [
    "df = pd.DataFrame(r[\"resultSet\"][\"rowSet\"], columns = table_headers)"
   ]
  },
  {
   "cell_type": "code",
   "execution_count": 135,
   "id": "724e142f-9486-46c5-8939-c09233812f03",
   "metadata": {
    "tags": []
   },
   "outputs": [],
   "source": [
    "url = 'https://stats.nba.com/stats/leagueLeaders?LeagueID=00&PerMode=PerGame&Scope=S&Season={}-{}&SeasonType=Regular%20Season&StatCategory=PTS'\n",
    "df_ha = []\n",
    "for year in years:\n",
    "    if year == 2022:\n",
    "        r = requests.get(url.format(year, 23)).json()\n",
    "        table_headers = r[\"resultSet\"][\"headers\"]\n",
    "        a = pd.DataFrame(r[\"resultSet\"][\"rowSet\"], columns = table_headers)\n",
    "        a[\"Year\"] = year\n",
    "        df_ha.append(a)\n",
    "        \n",
    "    r = requests.get(url.format(year, (year + 1) % 100)).json()\n",
    "    table_headers = r[\"resultSet\"][\"headers\"]\n",
    "    a = pd.DataFrame(r[\"resultSet\"][\"rowSet\"], columns = table_headers)\n",
    "    a[\"Year\"] = year\n",
    "    df_ha.append(a)\n",
    "\n",
    "    "
   ]
  },
  {
   "cell_type": "code",
   "execution_count": 145,
   "id": "88a385ac-a007-4a31-923c-c4ffe2479ab3",
   "metadata": {
    "tags": []
   },
   "outputs": [],
   "source": [
    "r = requests.get('https://stats.nba.com/stats/leagueLeaders?LeagueID=00&PerMode=PerGame&Scope=S&Season=2008-09&SeasonType=Regular%20Season&StatCategory=PTS').json()\n",
    "table_headers = r[\"resultSet\"][\"headers\"]\n",
    "a = pd.DataFrame(r[\"resultSet\"][\"rowSet\"], columns = table_headers)\n",
    "a[\"Year\"] = 2008\n",
    "df_ha.append(a)\n"
   ]
  },
  {
   "cell_type": "code",
   "execution_count": 165,
   "id": "1192e449-64ea-4a39-84b5-dbcb7ceb80ad",
   "metadata": {
    "tags": []
   },
   "outputs": [
    {
     "data": {
      "text/plain": [
       "43"
      ]
     },
     "execution_count": 165,
     "metadata": {},
     "output_type": "execute_result"
    }
   ],
   "source": [
    "len(df_ha)"
   ]
  },
  {
   "cell_type": "code",
   "execution_count": 166,
   "id": "aef41f9f-4ce4-48fd-899b-f11a95feee60",
   "metadata": {
    "tags": []
   },
   "outputs": [],
   "source": [
    "abra = pd.concat(df_ha)"
   ]
  },
  {
   "cell_type": "code",
   "execution_count": 167,
   "id": "4433809c-d00d-4419-8208-9e4ef9e965ec",
   "metadata": {
    "tags": []
   },
   "outputs": [],
   "source": [
    "abra.to_csv(\"players1.csv\")"
   ]
  },
  {
   "cell_type": "markdown",
   "id": "6567b1fa-2f25-4199-991c-7c9b8f3afac2",
   "metadata": {},
   "source": [
    "## Team records"
   ]
  },
  {
   "cell_type": "code",
   "execution_count": 95,
   "id": "07d0813b-d685-457c-b2ea-c095471c9078",
   "metadata": {
    "tags": []
   },
   "outputs": [],
   "source": [
    "teams_url = \"https://www.basketball-reference.com/leagues/NBA_{}_standings.html\""
   ]
  },
  {
   "cell_type": "code",
   "execution_count": 96,
   "id": "62931337-6fca-421f-a89c-20a80f25cdfc",
   "metadata": {
    "tags": []
   },
   "outputs": [],
   "source": [
    "'''\n",
    "for year in years:\n",
    "    url = teams_url.format(year)\n",
    "    data= requests.get(url)\n",
    "    time.sleep(15)\n",
    "    with open(\"team/{}.html\".format(year), \"w+\", encoding = 'utf-8') as f:\n",
    "        f.write(data.text) '''"
   ]
  },
  {
   "cell_type": "code",
   "execution_count": 105,
   "id": "b016d833-59a6-463c-8b89-74d19cd220b0",
   "metadata": {
    "tags": []
   },
   "outputs": [],
   "source": [
    "dfs_team_standings = []\n",
    "for year in years:\n",
    "    with open(\"team/{}.html\".format(year)) as f:\n",
    "        page = f.read()\n",
    "        \n",
    "    soup = BeautifulSoup(page, \"html.parser\")\n",
    "    soup.find(\"tr\", class_ = \"thead\").decompose() # decompose allows to remove\n",
    "    team_table = soup.find(id = \"divs_standings_E\")\n",
    "    team = pd.read_html(str(team_table))[0]\n",
    "    team[\"Year\"] = year\n",
    "    team[\"Team\"] = team[\"Eastern Conference\"]\n",
    "    del team[\"Eastern Conference\"]\n",
    "    dfs_team_standings.append(team)\n",
    "    \n",
    "\n",
    "    soup = BeautifulSoup(page, \"html.parser\")\n",
    "    soup.find(\"tr\", class_ = \"thead\").decompose() # decompose allows to remove\n",
    "    team_table = soup.find(id = \"divs_standings_W\")\n",
    "    team = pd.read_html(str(team_table))[0]\n",
    "    team[\"Year\"] = year\n",
    "    team[\"Team\"] = team[\"Western Conference\"]\n",
    "    del team[\"Western Conference\"]\n",
    "    dfs_team_standings.append(team)"
   ]
  },
  {
   "cell_type": "code",
   "execution_count": 106,
   "id": "c5074fdc-0e12-456e-b81c-df8bbffde9bf",
   "metadata": {
    "tags": []
   },
   "outputs": [],
   "source": [
    "standings = pd.concat(dfs_team_standings)"
   ]
  },
  {
   "cell_type": "code",
   "execution_count": 107,
   "id": "d1b689eb-7afd-4156-8df6-58f28a3bc8c3",
   "metadata": {
    "tags": []
   },
   "outputs": [
    {
     "data": {
      "text/html": [
       "<div>\n",
       "<style scoped>\n",
       "    .dataframe tbody tr th:only-of-type {\n",
       "        vertical-align: middle;\n",
       "    }\n",
       "\n",
       "    .dataframe tbody tr th {\n",
       "        vertical-align: top;\n",
       "    }\n",
       "\n",
       "    .dataframe thead th {\n",
       "        text-align: right;\n",
       "    }\n",
       "</style>\n",
       "<table border=\"1\" class=\"dataframe\">\n",
       "  <thead>\n",
       "    <tr style=\"text-align: right;\">\n",
       "      <th></th>\n",
       "      <th>W</th>\n",
       "      <th>L</th>\n",
       "      <th>W/L%</th>\n",
       "      <th>GB</th>\n",
       "      <th>PS/G</th>\n",
       "      <th>PA/G</th>\n",
       "      <th>SRS</th>\n",
       "      <th>Year</th>\n",
       "      <th>Team</th>\n",
       "    </tr>\n",
       "  </thead>\n",
       "  <tbody>\n",
       "    <tr>\n",
       "      <th>0</th>\n",
       "      <td>56</td>\n",
       "      <td>26</td>\n",
       "      <td>.683</td>\n",
       "      <td>—</td>\n",
       "      <td>111.5</td>\n",
       "      <td>105.7</td>\n",
       "      <td>5.22</td>\n",
       "      <td>1991</td>\n",
       "      <td>Boston Celtics*</td>\n",
       "    </tr>\n",
       "    <tr>\n",
       "      <th>1</th>\n",
       "      <td>44</td>\n",
       "      <td>38</td>\n",
       "      <td>.537</td>\n",
       "      <td>12.0</td>\n",
       "      <td>105.4</td>\n",
       "      <td>105.6</td>\n",
       "      <td>-0.39</td>\n",
       "      <td>1991</td>\n",
       "      <td>Philadelphia 76ers*</td>\n",
       "    </tr>\n",
       "    <tr>\n",
       "      <th>2</th>\n",
       "      <td>39</td>\n",
       "      <td>43</td>\n",
       "      <td>.476</td>\n",
       "      <td>17.0</td>\n",
       "      <td>103.1</td>\n",
       "      <td>103.3</td>\n",
       "      <td>-0.43</td>\n",
       "      <td>1991</td>\n",
       "      <td>New York Knicks*</td>\n",
       "    </tr>\n",
       "    <tr>\n",
       "      <th>3</th>\n",
       "      <td>30</td>\n",
       "      <td>52</td>\n",
       "      <td>.366</td>\n",
       "      <td>26.0</td>\n",
       "      <td>101.4</td>\n",
       "      <td>106.4</td>\n",
       "      <td>-4.84</td>\n",
       "      <td>1991</td>\n",
       "      <td>Washington Bullets</td>\n",
       "    </tr>\n",
       "    <tr>\n",
       "      <th>4</th>\n",
       "      <td>26</td>\n",
       "      <td>56</td>\n",
       "      <td>.317</td>\n",
       "      <td>30.0</td>\n",
       "      <td>102.9</td>\n",
       "      <td>107.5</td>\n",
       "      <td>-4.53</td>\n",
       "      <td>1991</td>\n",
       "      <td>New Jersey Nets</td>\n",
       "    </tr>\n",
       "    <tr>\n",
       "      <th>...</th>\n",
       "      <td>...</td>\n",
       "      <td>...</td>\n",
       "      <td>...</td>\n",
       "      <td>...</td>\n",
       "      <td>...</td>\n",
       "      <td>...</td>\n",
       "      <td>...</td>\n",
       "      <td>...</td>\n",
       "      <td>...</td>\n",
       "    </tr>\n",
       "    <tr>\n",
       "      <th>13</th>\n",
       "      <td>56</td>\n",
       "      <td>26</td>\n",
       "      <td>.683</td>\n",
       "      <td>—</td>\n",
       "      <td>115.6</td>\n",
       "      <td>109.9</td>\n",
       "      <td>5.37</td>\n",
       "      <td>2022</td>\n",
       "      <td>Memphis Grizzlies*</td>\n",
       "    </tr>\n",
       "    <tr>\n",
       "      <th>14</th>\n",
       "      <td>52</td>\n",
       "      <td>30</td>\n",
       "      <td>.634</td>\n",
       "      <td>4.0</td>\n",
       "      <td>108.0</td>\n",
       "      <td>104.7</td>\n",
       "      <td>3.12</td>\n",
       "      <td>2022</td>\n",
       "      <td>Dallas Mavericks*</td>\n",
       "    </tr>\n",
       "    <tr>\n",
       "      <th>15</th>\n",
       "      <td>36</td>\n",
       "      <td>46</td>\n",
       "      <td>.439</td>\n",
       "      <td>20.0</td>\n",
       "      <td>109.3</td>\n",
       "      <td>110.3</td>\n",
       "      <td>-0.84</td>\n",
       "      <td>2022</td>\n",
       "      <td>New Orleans Pelicans*</td>\n",
       "    </tr>\n",
       "    <tr>\n",
       "      <th>16</th>\n",
       "      <td>34</td>\n",
       "      <td>48</td>\n",
       "      <td>.415</td>\n",
       "      <td>22.0</td>\n",
       "      <td>113.2</td>\n",
       "      <td>113.0</td>\n",
       "      <td>0.02</td>\n",
       "      <td>2022</td>\n",
       "      <td>San Antonio Spurs</td>\n",
       "    </tr>\n",
       "    <tr>\n",
       "      <th>17</th>\n",
       "      <td>20</td>\n",
       "      <td>62</td>\n",
       "      <td>.244</td>\n",
       "      <td>36.0</td>\n",
       "      <td>109.7</td>\n",
       "      <td>118.2</td>\n",
       "      <td>-8.26</td>\n",
       "      <td>2022</td>\n",
       "      <td>Houston Rockets</td>\n",
       "    </tr>\n",
       "  </tbody>\n",
       "</table>\n",
       "<p>1068 rows × 9 columns</p>\n",
       "</div>"
      ],
      "text/plain": [
       "     W   L  W/L%    GB   PS/G   PA/G    SRS  Year                   Team\n",
       "0   56  26  .683     —  111.5  105.7   5.22  1991        Boston Celtics*\n",
       "1   44  38  .537  12.0  105.4  105.6  -0.39  1991    Philadelphia 76ers*\n",
       "2   39  43  .476  17.0  103.1  103.3  -0.43  1991       New York Knicks*\n",
       "3   30  52  .366  26.0  101.4  106.4  -4.84  1991     Washington Bullets\n",
       "4   26  56  .317  30.0  102.9  107.5  -4.53  1991        New Jersey Nets\n",
       "..  ..  ..   ...   ...    ...    ...    ...   ...                    ...\n",
       "13  56  26  .683     —  115.6  109.9   5.37  2022     Memphis Grizzlies*\n",
       "14  52  30  .634   4.0  108.0  104.7   3.12  2022      Dallas Mavericks*\n",
       "15  36  46  .439  20.0  109.3  110.3  -0.84  2022  New Orleans Pelicans*\n",
       "16  34  48  .415  22.0  113.2  113.0   0.02  2022      San Antonio Spurs\n",
       "17  20  62  .244  36.0  109.7  118.2  -8.26  2022        Houston Rockets\n",
       "\n",
       "[1068 rows x 9 columns]"
      ]
     },
     "execution_count": 107,
     "metadata": {},
     "output_type": "execute_result"
    }
   ],
   "source": [
    "standings"
   ]
  },
  {
   "cell_type": "code",
   "execution_count": 108,
   "id": "5abf4138-dbfa-44dd-8c74-1622ac4d4cf8",
   "metadata": {
    "tags": []
   },
   "outputs": [],
   "source": [
    "standings.to_csv(\"standings.csv\")"
   ]
  }
 ],
 "metadata": {
  "kernelspec": {
   "display_name": "Python 3 (ipykernel)",
   "language": "python",
   "name": "python3"
  },
  "language_info": {
   "codemirror_mode": {
    "name": "ipython",
    "version": 3
   },
   "file_extension": ".py",
   "mimetype": "text/x-python",
   "name": "python",
   "nbconvert_exporter": "python",
   "pygments_lexer": "ipython3",
   "version": "3.10.9"
  }
 },
 "nbformat": 4,
 "nbformat_minor": 5
}
